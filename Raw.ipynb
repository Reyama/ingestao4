{
 "cells": [
  {
   "cell_type": "code",
   "execution_count": 1,
   "metadata": {},
   "outputs": [],
   "source": [
    "from pyspark.sql import SparkSession\n",
    "import os"
   ]
  },
  {
   "cell_type": "code",
   "execution_count": 2,
   "metadata": {},
   "outputs": [
    {
     "name": "stderr",
     "output_type": "stream",
     "text": [
      "your 131072x1 screen size is bogus. expect trouble\n",
      "24/08/24 23:39:18 WARN Utils: Your hostname, BR-CND12708WZ resolves to a loopback address: 127.0.1.1; using 172.23.118.25 instead (on interface eth0)\n",
      "24/08/24 23:39:18 WARN Utils: Set SPARK_LOCAL_IP if you need to bind to another address\n",
      "Setting default log level to \"WARN\".\n",
      "To adjust logging level use sc.setLogLevel(newLevel). For SparkR, use setLogLevel(newLevel).\n",
      "24/08/24 23:39:19 WARN NativeCodeLoader: Unable to load native-hadoop library for your platform... using builtin-java classes where applicable\n"
     ]
    }
   ],
   "source": [
    "spark = (\n",
    "    SparkSession\n",
    "    .builder\n",
    "    .master('local[*]')\n",
    "    .appName('atividade-4')\n",
    "    .getOrCreate()\n",
    ")\n"
   ]
  },
  {
   "cell_type": "code",
   "execution_count": 3,
   "metadata": {},
   "outputs": [],
   "source": [
    "output_path='./Data/Raw'\n",
    "\n",
    "df_bancos = spark.read.csv('Bancos/EnquadramentoInicia_v2.tsv', sep=\"\\t\", header=True, encoding=\"iso-8859-1\")\n",
    "df_bancos.write.csv(f'{output_path}/bancos.csv', header=True)\n",
    "\n",
    "df_empregados1 = spark.read.csv('./Empregados/glassdoor_consolidado_join_match_less_v2.csv', sep='|', header=True, encoding='utf-8')\n",
    "df_empregados1.write.csv(f'{output_path}/empregados1.csv', header=True)\n",
    "\n",
    "df_empregados2 = spark.read.csv('./Empregados/glassdoor_consolidado_join_match_v2.csv', sep='|', header=True, encoding='utf-8')\n",
    "df_empregados2.write.csv(f'{output_path}/empregados2.csv', header=True)\n",
    "\n"
   ]
  },
  {
   "cell_type": "code",
   "execution_count": 4,
   "metadata": {},
   "outputs": [
    {
     "name": "stderr",
     "output_type": "stream",
     "text": [
      "24/08/24 23:39:26 WARN CSVHeaderChecker: CSV header does not conform to the schema.\n",
      " Header: Ano, Trimestre, Categoria, Tipo, CNPJ IF, Instituição financeira, Índice, Quantidade de reclamações reguladas procedentes, Quantidade de reclamações reguladas - outras, Quantidade de reclamações não reguladas, Quantidade total de reclamações, Quantidade total de clientes  CCS e SCR, Quantidade de clientes  CCS, Quantidade de clientes  SCR, \n",
      " Schema: Ano, Trimestre, Categoria, Tipo, CNPJ IF, Instituição financeira, Índice, Quantidade de reclamações reguladas procedentes, Quantidade de reclamações reguladas - outras, Quantidade de reclamações não reguladas, Quantidade total de reclamações, Quantidade total de clientes  CCS e SCR, Quantidade de clientes  CCS, Quantidade de clientes  SCR, _c14\n",
      "Expected: _c14 but found: \n",
      "CSV file: file:///home/roberto/python/pos/ingestao/Dados/Reclamações/2022_tri_03.csv\n",
      "24/08/24 23:39:26 WARN CSVHeaderChecker: CSV header does not conform to the schema.\n",
      " Header: Ano, Trimestre, Categoria, Tipo, CNPJ IF, Instituição financeira, Índice, Quantidade de reclamações reguladas procedentes, Quantidade de reclamações reguladas - outras, Quantidade de reclamações não reguladas, Quantidade total de reclamações, Quantidade total de clientes  CCS e SCR, Quantidade de clientes  CCS, Quantidade de clientes  SCR, \n",
      " Schema: Ano, Trimestre, Categoria, Tipo, CNPJ IF, Instituição financeira, Índice, Quantidade de reclamações reguladas procedentes, Quantidade de reclamações reguladas - outras, Quantidade de reclamações não reguladas, Quantidade total de reclamações, Quantidade total de clientes  CCS e SCR, Quantidade de clientes  CCS, Quantidade de clientes  SCR, _c14\n",
      "Expected: _c14 but found: \n",
      "CSV file: file:///home/roberto/python/pos/ingestao/Dados/Reclamações/2022_tri_04.csv\n"
     ]
    },
    {
     "name": "stdout",
     "output_type": "stream",
     "text": [
      "Não foi possível abrir o arquivo 2022_tri_02_nao_ha_dados.csv: Datasource does not support writing empty or nested empty schemas. Please make sure the data schema has at least one or more column(s).\n"
     ]
    },
    {
     "name": "stderr",
     "output_type": "stream",
     "text": [
      "24/08/24 23:39:26 WARN CSVHeaderChecker: CSV header does not conform to the schema.\n",
      " Header: Ano, Trimestre, Categoria, Tipo, CNPJ IF, Instituição financeira, Índice, Quantidade de reclamações reguladas procedentes, Quantidade de reclamações reguladas - outras, Quantidade de reclamações não reguladas, Quantidade total de reclamações, Quantidade total de clientes  CCS e SCR, Quantidade de clientes  CCS, Quantidade de clientes  SCR, \n",
      " Schema: Ano, Trimestre, Categoria, Tipo, CNPJ IF, Instituição financeira, Índice, Quantidade de reclamações reguladas procedentes, Quantidade de reclamações reguladas - outras, Quantidade de reclamações não reguladas, Quantidade total de reclamações, Quantidade total de clientes  CCS e SCR, Quantidade de clientes  CCS, Quantidade de clientes  SCR, _c14\n",
      "Expected: _c14 but found: \n",
      "CSV file: file:///home/roberto/python/pos/ingestao/Dados/Reclamações/2021_tri_03.csv\n",
      "24/08/24 23:39:27 WARN CSVHeaderChecker: CSV header does not conform to the schema.\n",
      " Header: Ano, Trimestre, Categoria, Tipo, CNPJ IF, Instituição financeira, Índice, Quantidade de reclamações reguladas procedentes, Quantidade de reclamações reguladas - outras, Quantidade de reclamações não reguladas, Quantidade total de reclamações, Quantidade total de clientes  CCS e SCR, Quantidade de clientes  CCS, Quantidade de clientes  SCR, \n",
      " Schema: Ano, Trimestre, Categoria, Tipo, CNPJ IF, Instituição financeira, Índice, Quantidade de reclamações reguladas procedentes, Quantidade de reclamações reguladas - outras, Quantidade de reclamações não reguladas, Quantidade total de reclamações, Quantidade total de clientes  CCS e SCR, Quantidade de clientes  CCS, Quantidade de clientes  SCR, _c14\n",
      "Expected: _c14 but found: \n",
      "CSV file: file:///home/roberto/python/pos/ingestao/Dados/Reclamações/2021_tri_01.csv\n",
      "24/08/24 23:39:27 WARN CSVHeaderChecker: CSV header does not conform to the schema.\n",
      " Header: Ano, Trimestre, Categoria, Tipo, CNPJ IF, Instituição financeira, Índice, Quantidade de reclamações reguladas procedentes, Quantidade de reclamações reguladas - outras, Quantidade de reclamações não reguladas, Quantidade total de reclamações, Quantidade total de clientes  CCS e SCR, Quantidade de clientes  CCS, Quantidade de clientes  SCR, \n",
      " Schema: Ano, Trimestre, Categoria, Tipo, CNPJ IF, Instituição financeira, Índice, Quantidade de reclamações reguladas procedentes, Quantidade de reclamações reguladas - outras, Quantidade de reclamações não reguladas, Quantidade total de reclamações, Quantidade total de clientes  CCS e SCR, Quantidade de clientes  CCS, Quantidade de clientes  SCR, _c14\n",
      "Expected: _c14 but found: \n",
      "CSV file: file:///home/roberto/python/pos/ingestao/Dados/Reclamações/2022_tri_01.csv\n",
      "24/08/24 23:39:27 WARN CSVHeaderChecker: CSV header does not conform to the schema.\n",
      " Header: Ano, Trimestre, Categoria, Tipo, CNPJ IF, Instituição financeira, Índice, Quantidade de reclamações reguladas procedentes, Quantidade de reclamações reguladas - outras, Quantidade de reclamações não reguladas, Quantidade total de reclamações, Quantidade total de clientes  CCS e SCR, Quantidade de clientes  CCS, Quantidade de clientes  SCR, \n",
      " Schema: Ano, Trimestre, Categoria, Tipo, CNPJ IF, Instituição financeira, Índice, Quantidade de reclamações reguladas procedentes, Quantidade de reclamações reguladas - outras, Quantidade de reclamações não reguladas, Quantidade total de reclamações, Quantidade total de clientes  CCS e SCR, Quantidade de clientes  CCS, Quantidade de clientes  SCR, _c14\n",
      "Expected: _c14 but found: \n",
      "CSV file: file:///home/roberto/python/pos/ingestao/Dados/Reclamações/2021_tri_04.csv\n",
      "24/08/24 23:39:27 WARN CSVHeaderChecker: CSV header does not conform to the schema.\n",
      " Header: Ano, Trimestre, Categoria, Tipo, CNPJ IF, Instituição financeira, Índice, Quantidade de reclamações reguladas procedentes, Quantidade de reclamações reguladas - outras, Quantidade de reclamações não reguladas, Quantidade total de reclamações, Quantidade total de clientes  CCS e SCR, Quantidade de clientes  CCS, Quantidade de clientes  SCR, \n",
      " Schema: Ano, Trimestre, Categoria, Tipo, CNPJ IF, Instituição financeira, Índice, Quantidade de reclamações reguladas procedentes, Quantidade de reclamações reguladas - outras, Quantidade de reclamações não reguladas, Quantidade total de reclamações, Quantidade total de clientes  CCS e SCR, Quantidade de clientes  CCS, Quantidade de clientes  SCR, _c14\n",
      "Expected: _c14 but found: \n",
      "CSV file: file:///home/roberto/python/pos/ingestao/Dados/Reclamações/2021_tri_02.csv\n"
     ]
    }
   ],
   "source": [
    "path = \"./Reclamações\"\n",
    "all_files = os.listdir(path)\n",
    "\n",
    "for filename in all_files:\n",
    "    try:\n",
    "        # Load the CSV file into a DataFrame\n",
    "        df = spark.read.csv(f'{path}/{filename}', sep=';', header=True, encoding='iso-8859-1')\n",
    "        \n",
    "        # Save the individual DataFrame as a CSV file\n",
    "        df.write.csv(f'{output_path}/reclamacoes_{filename}', header=True)\n",
    "        \n",
    "    except Exception as e:\n",
    "        print(f'Não foi possível abrir o arquivo {filename}: {str(e)}')\n",
    "        pass"
   ]
  },
  {
   "cell_type": "code",
   "execution_count": 5,
   "metadata": {},
   "outputs": [],
   "source": [
    "spark.stop()"
   ]
  },
  {
   "cell_type": "code",
   "execution_count": null,
   "metadata": {},
   "outputs": [],
   "source": []
  }
 ],
 "metadata": {
  "kernelspec": {
   "display_name": "pyspark",
   "language": "python",
   "name": "python3"
  },
  "language_info": {
   "codemirror_mode": {
    "name": "ipython",
    "version": 3
   },
   "file_extension": ".py",
   "mimetype": "text/x-python",
   "name": "python",
   "nbconvert_exporter": "python",
   "pygments_lexer": "ipython3",
   "version": "3.10.12"
  }
 },
 "nbformat": 4,
 "nbformat_minor": 2
}
