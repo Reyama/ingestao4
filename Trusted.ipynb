{
 "cells": [
  {
   "cell_type": "code",
   "execution_count": 1,
   "metadata": {},
   "outputs": [],
   "source": [
    "from pyspark.sql import SparkSession\n",
    "from pyspark.sql.functions import col,regexp_replace,lit\n",
    "import os\n",
    "\n",
    "from dotenv import load_dotenv"
   ]
  },
  {
   "cell_type": "code",
   "execution_count": 2,
   "metadata": {},
   "outputs": [
    {
     "data": {
      "text/plain": [
       "True"
      ]
     },
     "execution_count": 2,
     "metadata": {},
     "output_type": "execute_result"
    }
   ],
   "source": [
    "load_dotenv()"
   ]
  },
  {
   "cell_type": "code",
   "execution_count": 3,
   "metadata": {},
   "outputs": [
    {
     "name": "stderr",
     "output_type": "stream",
     "text": [
      "your 131072x1 screen size is bogus. expect trouble\n",
      "24/08/24 23:40:18 WARN Utils: Your hostname, BR-CND12708WZ resolves to a loopback address: 127.0.1.1; using 172.23.118.25 instead (on interface eth0)\n",
      "24/08/24 23:40:18 WARN Utils: Set SPARK_LOCAL_IP if you need to bind to another address\n",
      "24/08/24 23:40:19 WARN NativeCodeLoader: Unable to load native-hadoop library for your platform... using builtin-java classes where applicable\n",
      "Setting default log level to \"WARN\".\n",
      "To adjust logging level use sc.setLogLevel(newLevel). For SparkR, use setLogLevel(newLevel).\n"
     ]
    }
   ],
   "source": [
    "spark = (\n",
    "    SparkSession\n",
    "    .builder\n",
    "    .config(\"spark.jars\", \"./driver/postgresql-42.7.4.jar\")\n",
    "    .config(\"spark.drivers.extraClassPath\",\"/usr/local/postgresql-42.7.4.jar\")\n",
    "    .config(\"spark.executor.extraClassPath\",\"/usr/local/postgresql-42.7.4.jar\")\n",
    "    .master('local[*]')\n",
    "    .appName('atividade-4')\n",
    "    .getOrCreate()\n",
    ")\n"
   ]
  },
  {
   "cell_type": "code",
   "execution_count": 4,
   "metadata": {},
   "outputs": [],
   "source": [
    "path_raw = './Data/Raw'\n",
    "path_trusted = './Data/Trusted'\n",
    "\n",
    "df_bancos = spark.read.csv(f'{path_raw}/bancos.csv', header=True)\n",
    "df_empregados1 = spark.read.csv(f'{path_raw}/empregados1.csv', header=True)\n",
    "df_empregados2 = spark.read.csv(f'{path_raw}/empregados2.csv', header=True)"
   ]
  },
  {
   "cell_type": "code",
   "execution_count": 5,
   "metadata": {},
   "outputs": [],
   "source": [
    "df_bancos = df_bancos.withColumn(\n",
    "    \"CNPJ\",\n",
    "    col(\"CNPJ\")\n",
    "    .cast(\"string\")\n",
    "    )\n",
    "df_bancos = df_bancos.withColumn(\n",
    "    'Nome',\n",
    "    regexp_replace(\n",
    "        col('Nome'),\n",
    "        ' - PRUDENCIAL',\n",
    "        '')\n",
    "    )\n",
    "\n"
   ]
  },
  {
   "cell_type": "code",
   "execution_count": 7,
   "metadata": {},
   "outputs": [],
   "source": [
    "df_bancos = df_bancos.withColumnsRenamed({\n",
    "    \"Segmento\":\"segmento\",\n",
    "    \"CNPJ\":\"cnpj\",\n",
    "    \"Nome\":\"nome\"\n",
    "})"
   ]
  },
  {
   "cell_type": "code",
   "execution_count": 8,
   "metadata": {},
   "outputs": [
    {
     "name": "stderr",
     "output_type": "stream",
     "text": [
      "                                                                                \r"
     ]
    }
   ],
   "source": [
    "df_bancos.write.parquet(f'{path_trusted}/bancos.parquet', mode='overwrite')"
   ]
  },
  {
   "cell_type": "code",
   "execution_count": 9,
   "metadata": {},
   "outputs": [],
   "source": [
    "df_empregados1 = df_empregados1.withColumn(\n",
    "    \"CNPJ\",\n",
    "    col(\"CNPJ\")\n",
    "    .cast(\"string\")\n",
    "    )"
   ]
  },
  {
   "cell_type": "code",
   "execution_count": 10,
   "metadata": {},
   "outputs": [],
   "source": [
    "df_empregados1 = df_empregados1.withColumn('Segmento', lit(\"\"))\n",
    "df_empregados2 = df_empregados2.withColumn('CNPJ',lit(\"\"))"
   ]
  },
  {
   "cell_type": "code",
   "execution_count": 11,
   "metadata": {},
   "outputs": [],
   "source": [
    "columns_empregados1 = df_empregados1.columns\n",
    "df_empregados2 = df_empregados2.select(columns_empregados1)\n",
    "\n",
    "df_empregados = df_empregados1.union(df_empregados2)\n",
    "df_empregados = df_empregados.dropDuplicates()"
   ]
  },
  {
   "cell_type": "code",
   "execution_count": 17,
   "metadata": {},
   "outputs": [],
   "source": [
    "df_empregados = df_empregados.withColumnsRenamed({\n",
    "    \"employer-website\":\"employer_website\",\n",
    "    \"employer-headquarters\":\"employer_headquarters\",\n",
    "    \"employer-founded\":\"employer_founded\",\n",
    "    \"employer-industry\":\"employer_industry\",\n",
    "    \"employer-revenue\":\"employer_revenue\",\n",
    "    \"Geral\":\"geral\",\n",
    "    \"Cultura e valores\":\"cultura_e_valores\",\n",
    "    \"Diversidade e inclusão\":\"diversidade_e_inclusao\",\n",
    "    \"Qualidade de vida\":\"qualidade_de_vida\",\n",
    "    \"Alta liderança\":\"alta_lideranca\",\n",
    "    \"Remuneração e benefícios\":\"remuneracao_e_beneficios\",\n",
    "    \"Oportunidades de carreira\":\"oportunidades_de_carreira\",\n",
    "    \"Recomendam para outras pessoas(%)\":\"recomendam_para_outras_pessoas\",\n",
    "    \"Perspectiva positiva da empresa(%)\":\"perspectiva_positiva_da_empresa\",\n",
    "    \"CNPJ\":\"cnpj\",\n",
    "    \"Nome\":\"nome\",\n",
    "    \"Segmento\":\"segmento\"\n",
    "})"
   ]
  },
  {
   "cell_type": "code",
   "execution_count": 19,
   "metadata": {},
   "outputs": [],
   "source": [
    "df_empregados.write.parquet(f'{path_trusted}/empregados.parquet', mode='overwrite')\n"
   ]
  },
  {
   "cell_type": "code",
   "execution_count": 20,
   "metadata": {},
   "outputs": [],
   "source": [
    "all_reclamacoes = os.listdir(path_raw)\n",
    "all_reclamacoes = [file for file in all_reclamacoes if 'reclamacoes' in file]"
   ]
  },
  {
   "cell_type": "code",
   "execution_count": 21,
   "metadata": {},
   "outputs": [],
   "source": [
    "lista_dataframe = []\n",
    "for filename in all_reclamacoes:\n",
    "    try:\n",
    "        # Load the CSV file into a DataFrame\n",
    "        df = spark.read.csv(f'{path_raw}/{filename}', header=True)\n",
    "        \n",
    "    except Exception as e:\n",
    "        print(f'Não foi possível abrir o arquivo {filename}: {str(e)}')\n",
    "        pass\n",
    "    lista_dataframe.append(df)\n",
    "\n"
   ]
  },
  {
   "cell_type": "code",
   "execution_count": 22,
   "metadata": {},
   "outputs": [],
   "source": [
    "df_reclamacoes = lista_dataframe[0]\n",
    "for df in lista_dataframe[1:]:\n",
    "    df_reclamacoes = df_reclamacoes.union(df)"
   ]
  },
  {
   "cell_type": "code",
   "execution_count": 23,
   "metadata": {},
   "outputs": [],
   "source": [
    "df_reclamacoes = df_reclamacoes.drop('_c14')"
   ]
  },
  {
   "cell_type": "code",
   "execution_count": 25,
   "metadata": {},
   "outputs": [],
   "source": [
    "df_reclamacoes = df_reclamacoes.withColumnsRenamed({\n",
    "    \"Ano\":\"ano\",\n",
    "    \"Trimestre\":\"trimestre\",\n",
    "    \"Tipo\":\"tipo\",\n",
    "    \"CNPJ IF\":\"cnpj_if\",\n",
    "    \"Instituição financeira\":\"instituicao_financeira\",\n",
    "    \"Índice\":\"indice\",\n",
    "    \"Quantidade de reclamações reguladas procedentes\":\"quantidade_de_reclamacoes_reguladas_procedentes\",\n",
    "    \"Quantidade de reclamações reguladas - outras\":\"quantidade_de_reclamacoes_reguladas_outras\",\n",
    "    \"Quantidade de reclamações não reguladas\":\"quantidade_de_reclamacoes_nao_reguladas\",\n",
    "    \"Quantidade total de reclamações\":\"quantidade_total_de_reclamacoes\",\n",
    "    \"Quantidade total de clientes \\x96 CCS e SCR\":\"quantidade_total_de_clientes_ccs_e_scr\",\n",
    "    \"Quantidade de clientes \\x96 CCS\":\"quantidade_de_clientes_ccs\",\n",
    "    \"Quantidade de clientes \\x96 SCR\":\"quantidade_de_clientes_scr\"\n",
    "})"
   ]
  },
  {
   "cell_type": "code",
   "execution_count": 27,
   "metadata": {},
   "outputs": [],
   "source": [
    "df_reclamacoes.write.parquet(f'{path_trusted}/reclamacoes.parquet', mode='overwrite')"
   ]
  },
  {
   "cell_type": "code",
   "execution_count": 28,
   "metadata": {},
   "outputs": [],
   "source": [
    "url = f\"jdbc:postgresql://localhost:{os.getenv('PORT')}/{os.getenv('DATABASE')}\"\n",
    "properties = {\n",
    "    \"user\": os.getenv(\"USER_DB\"),\n",
    "    \"password\": os.getenv(\"PASS\"),\n",
    "    \"driver\": \"org.postgresql.Driver\"\n",
    "}"
   ]
  },
  {
   "cell_type": "code",
   "execution_count": 29,
   "metadata": {},
   "outputs": [
    {
     "name": "stderr",
     "output_type": "stream",
     "text": [
      "24/08/24 23:59:17 WARN SparkStringUtils: Truncated the string representation of a plan since it was too large. This behavior can be adjusted by setting 'spark.sql.debug.maxToStringFields'.\n"
     ]
    }
   ],
   "source": [
    "df_bancos.write.jdbc(url=url, table=\"bancos\", mode='overwrite', properties=properties)\n",
    "df_empregados.write.jdbc(url=url, table=\"empregados\", mode='overwrite', properties=properties)\n",
    "df_reclamacoes.write.jdbc(url=url, table=\"reclamacoes\", mode='overwrite', properties=properties)"
   ]
  },
  {
   "cell_type": "code",
   "execution_count": 30,
   "metadata": {},
   "outputs": [
    {
     "data": {
      "text/plain": [
       "{'user': 'postgres', 'password': 'postgres', 'driver': 'org.postgresql.Driver'}"
      ]
     },
     "execution_count": 30,
     "metadata": {},
     "output_type": "execute_result"
    }
   ],
   "source": [
    "properties"
   ]
  },
  {
   "cell_type": "code",
   "execution_count": 31,
   "metadata": {},
   "outputs": [
    {
     "data": {
      "text/plain": [
       "'jdbc:postgresql://localhost:5432/ingestao'"
      ]
     },
     "execution_count": 31,
     "metadata": {},
     "output_type": "execute_result"
    }
   ],
   "source": [
    "url"
   ]
  },
  {
   "cell_type": "code",
   "execution_count": 32,
   "metadata": {},
   "outputs": [],
   "source": [
    "spark.stop()"
   ]
  },
  {
   "cell_type": "code",
   "execution_count": null,
   "metadata": {},
   "outputs": [],
   "source": []
  },
  {
   "cell_type": "code",
   "execution_count": null,
   "metadata": {},
   "outputs": [],
   "source": []
  }
 ],
 "metadata": {
  "kernelspec": {
   "display_name": "pyspark",
   "language": "python",
   "name": "python3"
  },
  "language_info": {
   "codemirror_mode": {
    "name": "ipython",
    "version": 3
   },
   "file_extension": ".py",
   "mimetype": "text/x-python",
   "name": "python",
   "nbconvert_exporter": "python",
   "pygments_lexer": "ipython3",
   "version": "3.10.12"
  }
 },
 "nbformat": 4,
 "nbformat_minor": 2
}
